{
 "cells": [
  {
   "cell_type": "code",
   "execution_count": 1,
   "outputs": [],
   "source": [
    "import warnings\n",
    "\n",
    "import pandas as pd\n",
    "\n",
    "warnings.filterwarnings('ignore')\n",
    "\n",
    "from ContactPointsForEmployers import *"
   ],
   "metadata": {
    "collapsed": false
   }
  },
  {
   "cell_type": "code",
   "execution_count": 2,
   "outputs": [
    {
     "data": {
      "text/plain": "                        name                   street zip_code        city  \\\n0             AWO VITA gGmbH  Erna-Eckstein-Straße 10    40225  Düsseldorf   \n1             HWK Düsseldorf  Georg-Schulhoff-Platz 1    40221  Düsseldorf   \n2             IHK Düsseldorf  Ernst-Schneider-Platz 1    40212  Düsseldorf   \n3  Landwirtschaftskammer NRW            Gartenstr. 11    50765        Köln   \n\n                                 website salutation firstname lastname  \\\n0        https://www.awo-duesseldorf.de/       Frau    Simone     Esch   \n1        https://www.hwk-duesseldorf.de/       Frau   Jessica   Handke   \n2        https://www.ihk.de/duesseldorf/       Herr      Lutz  Overath   \n3  https://www.landwirtschaftskammer.de/       Frau   Juliane    Heldt   \n\n                                    email    phone_number  \n0          simone.esch@awo-duesseldorf.de  0211 538025-17  \n1       jessica.handke@hwk-duesseldorf.de    0211 8795356  \n2  andre.lutz.overrath@duesseldorf.ihk.de   0211 3557-431  \n3                    j.heldt@ifd-koeln.de   0221 2943-117  ",
      "text/html": "<div>\n<style scoped>\n    .dataframe tbody tr th:only-of-type {\n        vertical-align: middle;\n    }\n\n    .dataframe tbody tr th {\n        vertical-align: top;\n    }\n\n    .dataframe thead th {\n        text-align: right;\n    }\n</style>\n<table border=\"1\" class=\"dataframe\">\n  <thead>\n    <tr style=\"text-align: right;\">\n      <th></th>\n      <th>name</th>\n      <th>street</th>\n      <th>zip_code</th>\n      <th>city</th>\n      <th>website</th>\n      <th>salutation</th>\n      <th>firstname</th>\n      <th>lastname</th>\n      <th>email</th>\n      <th>phone_number</th>\n    </tr>\n  </thead>\n  <tbody>\n    <tr>\n      <th>0</th>\n      <td>AWO VITA gGmbH</td>\n      <td>Erna-Eckstein-Straße 10</td>\n      <td>40225</td>\n      <td>Düsseldorf</td>\n      <td>https://www.awo-duesseldorf.de/</td>\n      <td>Frau</td>\n      <td>Simone</td>\n      <td>Esch</td>\n      <td>simone.esch@awo-duesseldorf.de</td>\n      <td>0211 538025-17</td>\n    </tr>\n    <tr>\n      <th>1</th>\n      <td>HWK Düsseldorf</td>\n      <td>Georg-Schulhoff-Platz 1</td>\n      <td>40221</td>\n      <td>Düsseldorf</td>\n      <td>https://www.hwk-duesseldorf.de/</td>\n      <td>Frau</td>\n      <td>Jessica</td>\n      <td>Handke</td>\n      <td>jessica.handke@hwk-duesseldorf.de</td>\n      <td>0211 8795356</td>\n    </tr>\n    <tr>\n      <th>2</th>\n      <td>IHK Düsseldorf</td>\n      <td>Ernst-Schneider-Platz 1</td>\n      <td>40212</td>\n      <td>Düsseldorf</td>\n      <td>https://www.ihk.de/duesseldorf/</td>\n      <td>Herr</td>\n      <td>Lutz</td>\n      <td>Overath</td>\n      <td>andre.lutz.overrath@duesseldorf.ihk.de</td>\n      <td>0211 3557-431</td>\n    </tr>\n    <tr>\n      <th>3</th>\n      <td>Landwirtschaftskammer NRW</td>\n      <td>Gartenstr. 11</td>\n      <td>50765</td>\n      <td>Köln</td>\n      <td>https://www.landwirtschaftskammer.de/</td>\n      <td>Frau</td>\n      <td>Juliane</td>\n      <td>Heldt</td>\n      <td>j.heldt@ifd-koeln.de</td>\n      <td>0221 2943-117</td>\n    </tr>\n  </tbody>\n</table>\n</div>"
     },
     "execution_count": 2,
     "metadata": {},
     "output_type": "execute_result"
    }
   ],
   "source": [
    "# 40210\n",
    "full_data, contact_points = get_contact_details(postcode=40210)\n",
    "\n",
    "contact_points"
   ],
   "metadata": {
    "collapsed": false
   }
  },
  {
   "cell_type": "code",
   "execution_count": null,
   "outputs": [],
   "source": [
    "import html2text\n",
    "print (html2text.html2text(full_data[\"data\"][0][\"description\"]))"
   ],
   "metadata": {
    "collapsed": false,
    "pycharm": {
     "is_executing": true
    }
   }
  },
  {
   "cell_type": "code",
   "execution_count": 18,
   "outputs": [],
   "source": [
    "test = pd.DataFrame.from_dict(full_data[\"data\"])"
   ],
   "metadata": {
    "collapsed": false
   }
  },
  {
   "cell_type": "code",
   "execution_count": 22,
   "outputs": [
    {
     "data": {
      "text/plain": "                                            logo_uri  \\\n0  https://kontaktsuche.bih.de/uploads/logo/eaa-l...   \n1  https://kontaktsuche.bih.de/uploads/logo/eaa-l...   \n2  https://kontaktsuche.bih.de/uploads/logo/eaa-l...   \n3  https://kontaktsuche.bih.de/uploads/logo/eaa-l...   \n\n                                     visitor_address  \\\n0  {'name': 'AWO VITA gGmbH', 'street': 'Erna-Eck...   \n1  {'name': 'Handwerkskammer Düsseldorf', 'street...   \n2  {'name': 'Industrie- und Handelskammer Düsseld...   \n3  {'name': 'Landwirtschaftskammer NRW', 'street'...   \n\n                                            contacts  \\\n0  [{'name': 'AWO VITA gGmbH', 'id': 360, 'saluta...   \n1  [{'name': 'HWK Düsseldorf', 'id': 364, 'saluta...   \n2  [{'name': 'IHK Düsseldorf', 'id': 392, 'saluta...   \n3  [{'name': 'Landwirtschaftskammer NRW', 'id': 3...   \n\n                                   contact_divisions   id  \\\n0  [{'id': 'Einheitliche-Ansprechstellen-fuer-Arb...  485   \n1  [{'id': 'Einheitliche-Ansprechstellen-fuer-Arb...  476   \n2  [{'id': 'Einheitliche-Ansprechstellen-fuer-Arb...  576   \n3  [{'id': 'Einheitliche-Ansprechstellen-fuer-Arb...  481   \n\n                        name  \\\n0             AWO VITA gGmbH   \n1             HWK Düsseldorf   \n2             IHK Düsseldorf   \n3  Landwirtschaftskammer NRW   \n\n                                      institute_type  \\\n0  {'id': 7, 'name': 'Einheitliche Ansprechstelle...   \n1  {'id': 7, 'name': 'Einheitliche Ansprechstelle...   \n2  {'id': 7, 'name': 'Einheitliche Ansprechstelle...   \n3  {'id': 7, 'name': 'Einheitliche Ansprechstelle...   \n\n                                 website  \\\n0        https://www.awo-duesseldorf.de/   \n1        https://www.hwk-duesseldorf.de/   \n2        https://www.ihk.de/duesseldorf/   \n3  https://www.landwirtschaftskammer.de/   \n\n                                         description  \n0  <div><strong>Zuständigkeit:</strong></div><div...  \n1  <div><strong>Zuständigkeit:</strong></div><ul>...  \n2  <div><strong>Zuständigkeit:</strong></div><ul>...  \n3  <div><strong>Zuständigkeit:</strong></div><ul>...  ",
      "text/html": "<div>\n<style scoped>\n    .dataframe tbody tr th:only-of-type {\n        vertical-align: middle;\n    }\n\n    .dataframe tbody tr th {\n        vertical-align: top;\n    }\n\n    .dataframe thead th {\n        text-align: right;\n    }\n</style>\n<table border=\"1\" class=\"dataframe\">\n  <thead>\n    <tr style=\"text-align: right;\">\n      <th></th>\n      <th>logo_uri</th>\n      <th>visitor_address</th>\n      <th>contacts</th>\n      <th>contact_divisions</th>\n      <th>id</th>\n      <th>name</th>\n      <th>institute_type</th>\n      <th>website</th>\n      <th>description</th>\n    </tr>\n  </thead>\n  <tbody>\n    <tr>\n      <th>0</th>\n      <td>https://kontaktsuche.bih.de/uploads/logo/eaa-l...</td>\n      <td>{'name': 'AWO VITA gGmbH', 'street': 'Erna-Eck...</td>\n      <td>[{'name': 'AWO VITA gGmbH', 'id': 360, 'saluta...</td>\n      <td>[{'id': 'Einheitliche-Ansprechstellen-fuer-Arb...</td>\n      <td>485</td>\n      <td>AWO VITA gGmbH</td>\n      <td>{'id': 7, 'name': 'Einheitliche Ansprechstelle...</td>\n      <td>https://www.awo-duesseldorf.de/</td>\n      <td>&lt;div&gt;&lt;strong&gt;Zuständigkeit:&lt;/strong&gt;&lt;/div&gt;&lt;div...</td>\n    </tr>\n    <tr>\n      <th>1</th>\n      <td>https://kontaktsuche.bih.de/uploads/logo/eaa-l...</td>\n      <td>{'name': 'Handwerkskammer Düsseldorf', 'street...</td>\n      <td>[{'name': 'HWK Düsseldorf', 'id': 364, 'saluta...</td>\n      <td>[{'id': 'Einheitliche-Ansprechstellen-fuer-Arb...</td>\n      <td>476</td>\n      <td>HWK Düsseldorf</td>\n      <td>{'id': 7, 'name': 'Einheitliche Ansprechstelle...</td>\n      <td>https://www.hwk-duesseldorf.de/</td>\n      <td>&lt;div&gt;&lt;strong&gt;Zuständigkeit:&lt;/strong&gt;&lt;/div&gt;&lt;ul&gt;...</td>\n    </tr>\n    <tr>\n      <th>2</th>\n      <td>https://kontaktsuche.bih.de/uploads/logo/eaa-l...</td>\n      <td>{'name': 'Industrie- und Handelskammer Düsseld...</td>\n      <td>[{'name': 'IHK Düsseldorf', 'id': 392, 'saluta...</td>\n      <td>[{'id': 'Einheitliche-Ansprechstellen-fuer-Arb...</td>\n      <td>576</td>\n      <td>IHK Düsseldorf</td>\n      <td>{'id': 7, 'name': 'Einheitliche Ansprechstelle...</td>\n      <td>https://www.ihk.de/duesseldorf/</td>\n      <td>&lt;div&gt;&lt;strong&gt;Zuständigkeit:&lt;/strong&gt;&lt;/div&gt;&lt;ul&gt;...</td>\n    </tr>\n    <tr>\n      <th>3</th>\n      <td>https://kontaktsuche.bih.de/uploads/logo/eaa-l...</td>\n      <td>{'name': 'Landwirtschaftskammer NRW', 'street'...</td>\n      <td>[{'name': 'Landwirtschaftskammer NRW', 'id': 3...</td>\n      <td>[{'id': 'Einheitliche-Ansprechstellen-fuer-Arb...</td>\n      <td>481</td>\n      <td>Landwirtschaftskammer NRW</td>\n      <td>{'id': 7, 'name': 'Einheitliche Ansprechstelle...</td>\n      <td>https://www.landwirtschaftskammer.de/</td>\n      <td>&lt;div&gt;&lt;strong&gt;Zuständigkeit:&lt;/strong&gt;&lt;/div&gt;&lt;ul&gt;...</td>\n    </tr>\n  </tbody>\n</table>\n</div>"
     },
     "execution_count": 22,
     "metadata": {},
     "output_type": "execute_result"
    }
   ],
   "source": [
    "test"
   ],
   "metadata": {
    "collapsed": false
   }
  },
  {
   "cell_type": "code",
   "execution_count": 6,
   "outputs": [
    {
     "data": {
      "text/plain": "1"
     },
     "execution_count": 6,
     "metadata": {},
     "output_type": "execute_result"
    }
   ],
   "source": [
    "len(full_data)"
   ],
   "metadata": {
    "collapsed": false
   }
  },
  {
   "cell_type": "code",
   "execution_count": null,
   "outputs": [],
   "source": [],
   "metadata": {
    "collapsed": false
   }
  }
 ],
 "metadata": {
  "kernelspec": {
   "display_name": "Python 3",
   "language": "python",
   "name": "python3"
  },
  "language_info": {
   "codemirror_mode": {
    "name": "ipython",
    "version": 2
   },
   "file_extension": ".py",
   "mimetype": "text/x-python",
   "name": "python",
   "nbconvert_exporter": "python",
   "pygments_lexer": "ipython2",
   "version": "2.7.6"
  }
 },
 "nbformat": 4,
 "nbformat_minor": 0
}
