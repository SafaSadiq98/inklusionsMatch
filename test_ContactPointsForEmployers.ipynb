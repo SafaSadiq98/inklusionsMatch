{
 "cells": [
  {
   "cell_type": "code",
   "execution_count": 1,
   "outputs": [],
   "source": [
    "import warnings\n",
    "warnings.filterwarnings('ignore')\n",
    "\n",
    "from ContactPointsForEmployers import *"
   ],
   "metadata": {
    "collapsed": false
   }
  },
  {
   "cell_type": "code",
   "execution_count": 2,
   "outputs": [
    {
     "ename": "ValueError",
     "evalue": "too many values to unpack (expected 2)",
     "output_type": "error",
     "traceback": [
      "\u001B[1;31m---------------------------------------------------------------------------\u001B[0m",
      "\u001B[1;31mValueError\u001B[0m                                Traceback (most recent call last)",
      "Cell \u001B[1;32mIn[2], line 2\u001B[0m\n\u001B[0;32m      1\u001B[0m \u001B[38;5;66;03m# 40210\u001B[39;00m\n\u001B[1;32m----> 2\u001B[0m full_data, contact_points \u001B[38;5;241m=\u001B[39m get_contact_details(postcode\u001B[38;5;241m=\u001B[39m\u001B[38;5;241m40210\u001B[39m)\n\u001B[0;32m      4\u001B[0m contact_points\n",
      "\u001B[1;31mValueError\u001B[0m: too many values to unpack (expected 2)"
     ]
    }
   ],
   "source": [
    "# 40210\n",
    "full_data, contact_points = get_contact_details(postcode=40210)\n",
    "\n",
    "contact_points"
   ],
   "metadata": {
    "collapsed": false
   }
  },
  {
   "cell_type": "code",
   "execution_count": 13,
   "outputs": [
    {
     "name": "stdout",
     "output_type": "stream",
     "text": [
      "**Zuständigkeit:**\n",
      "\n",
      "Betriebe, die _nicht_\n",
      "\n",
      "  * einer Industrie- und Handelskammer, \n",
      "  * einer Handwerkskammer oder \n",
      "  * einer Landwirtschaft \n",
      "\n",
      "angeschlossen sind.  \n",
      "Beispielsweise Betriebe im Gesundheitswesen und in der Pflege, kirchliche\n",
      "Arbeitgeber und der öffentliche Dienst.\n",
      "\n",
      "\n"
     ]
    }
   ],
   "source": [
    "import html2text\n",
    "print (html2text.html2text(full_data[\"data\"][0][\"description\"]))"
   ],
   "metadata": {
    "collapsed": false
   }
  },
  {
   "cell_type": "code",
   "execution_count": 12,
   "outputs": [
    {
     "data": {
      "text/plain": "{'data': [{'logo_uri': 'https://kontaktsuche.bih.de/uploads/logo/eaa-logo-f2569bd7dd6efa842ee13d8f6152ff1bbd35a897.png',\n   'visitor_address': {'name': 'AWO VITA gGmbH',\n    'street': 'Erna-Eckstein-Straße 10',\n    'zip_code': '40225',\n    'city': 'Düsseldorf',\n    'show_map_link': True},\n   'contacts': [{'name': 'AWO VITA gGmbH',\n     'id': 360,\n     'salutation': 'Frau',\n     'firstname': 'Simone',\n     'lastname': 'Esch',\n     'email': 'simone.esch@awo-duesseldorf.de',\n     'phone_number': '0211 538025-17',\n     'roles': [{'name': 'Einheitliche Ansprechstellen für Arbeitgeber',\n       'division': 'Einheitliche Ansprechstellen für Arbeitgeber'}]}],\n   'contact_divisions': [{'id': 'Einheitliche-Ansprechstellen-fuer-Arbeitgeber',\n     'label': 'Einheitliche Ansprechstellen für Arbeitgeber',\n     'contact_ids': [360, 364, 354, 392]}],\n   'id': 485,\n   'name': 'AWO VITA gGmbH',\n   'institute_type': {'id': 7,\n    'name': 'Einheitliche Ansprechstellen für Arbeitgeber'},\n   'website': 'https://www.awo-duesseldorf.de/',\n   'description': '<div><strong>Zuständigkeit:</strong></div><div>Betriebe, die <em>nicht</em></div><ul><li>einer Industrie- und Handelskammer,&nbsp;</li><li>einer Handwerkskammer oder&nbsp;</li><li>einer Landwirtschaft&nbsp;</li></ul><div>angeschlossen sind.&nbsp;<br>Beispielsweise Betriebe im Gesundheitswesen und in der Pflege, kirchliche Arbeitgeber und der öffentliche Dienst.</div>'},\n  {'logo_uri': 'https://kontaktsuche.bih.de/uploads/logo/eaa-logo-f2569bd7dd6efa842ee13d8f6152ff1bbd35a897.png',\n   'visitor_address': {'name': 'Handwerkskammer Düsseldorf',\n    'street': 'Georg-Schulhoff-Platz 1',\n    'zip_code': '40221',\n    'city': 'Düsseldorf',\n    'show_map_link': True},\n   'contacts': [{'name': 'HWK Düsseldorf',\n     'id': 364,\n     'salutation': 'Frau',\n     'firstname': 'Jessica',\n     'lastname': 'Handke',\n     'email': 'jessica.handke@hwk-duesseldorf.de',\n     'phone_number': '0211 8795356',\n     'roles': [{'name': 'Einheitliche Ansprechstellen für Arbeitgeber',\n       'division': 'Einheitliche Ansprechstellen für Arbeitgeber'}]}],\n   'contact_divisions': [{'id': 'Einheitliche-Ansprechstellen-fuer-Arbeitgeber',\n     'label': 'Einheitliche Ansprechstellen für Arbeitgeber',\n     'contact_ids': [360, 364, 354, 392]}],\n   'id': 476,\n   'name': 'HWK Düsseldorf',\n   'institute_type': {'id': 7,\n    'name': 'Einheitliche Ansprechstellen für Arbeitgeber'},\n   'website': 'https://www.hwk-duesseldorf.de/',\n   'description': '<div><strong>Zuständigkeit:</strong></div><ul><li>Betriebe, die einer Handwerkskammer angeschlossen sind.</li></ul>'},\n  {'logo_uri': 'https://kontaktsuche.bih.de/uploads/logo/eaa-logo-f2569bd7dd6efa842ee13d8f6152ff1bbd35a897.png',\n   'visitor_address': {'name': 'Industrie- und Handelskammer Düsseldorf',\n    'street': 'Ernst-Schneider-Platz 1',\n    'zip_code': '40212',\n    'city': 'Düsseldorf',\n    'show_map_link': True},\n   'contacts': [{'name': 'IHK Düsseldorf',\n     'id': 392,\n     'salutation': 'Herr',\n     'firstname': 'Lutz',\n     'lastname': 'Overath',\n     'email': 'andre.lutz.overrath@duesseldorf.ihk.de',\n     'phone_number': '0211 3557-431',\n     'roles': [{'name': 'Einheitliche Ansprechstellen für Arbeitgeber',\n       'division': 'Einheitliche Ansprechstellen für Arbeitgeber'}]}],\n   'contact_divisions': [{'id': 'Einheitliche-Ansprechstellen-fuer-Arbeitgeber',\n     'label': 'Einheitliche Ansprechstellen für Arbeitgeber',\n     'contact_ids': [360, 364, 354, 392]}],\n   'id': 576,\n   'name': 'IHK Düsseldorf',\n   'institute_type': {'id': 7,\n    'name': 'Einheitliche Ansprechstellen für Arbeitgeber'},\n   'website': 'https://www.ihk.de/duesseldorf/',\n   'description': '<div><strong>Zuständigkeit:</strong></div><ul><li>Betriebe, die einer Industrie- und Handelskammer angeschlossen sind.</li></ul>'},\n  {'logo_uri': 'https://kontaktsuche.bih.de/uploads/logo/eaa-logo-f2569bd7dd6efa842ee13d8f6152ff1bbd35a897.png',\n   'visitor_address': {'name': 'Landwirtschaftskammer NRW',\n    'street': 'Gartenstr. 11',\n    'zip_code': '50765',\n    'city': 'Köln',\n    'show_map_link': True},\n   'contacts': [{'name': 'Landwirtschaftskammer NRW',\n     'id': 354,\n     'salutation': 'Frau',\n     'firstname': 'Juliane',\n     'lastname': 'Heldt',\n     'email': 'j.heldt@ifd-koeln.de',\n     'phone_number': '0221 2943-117',\n     'mobile_number': '0157 36213029',\n     'roles': [{'name': 'Einheitliche Ansprechstellen für Arbeitgeber',\n       'division': 'Einheitliche Ansprechstellen für Arbeitgeber'}]}],\n   'contact_divisions': [{'id': 'Einheitliche-Ansprechstellen-fuer-Arbeitgeber',\n     'label': 'Einheitliche Ansprechstellen für Arbeitgeber',\n     'contact_ids': [360, 364, 354, 392]}],\n   'id': 481,\n   'name': 'Landwirtschaftskammer NRW',\n   'institute_type': {'id': 7,\n    'name': 'Einheitliche Ansprechstellen für Arbeitgeber'},\n   'website': 'https://www.landwirtschaftskammer.de/',\n   'description': '<div><strong>Zuständigkeit:</strong></div><ul><li>Betriebe, die einer Landwirtschaftskammer angeschlossen sind.</li></ul>'}]}"
     },
     "execution_count": 12,
     "metadata": {},
     "output_type": "execute_result"
    }
   ],
   "source": [
    "full_data"
   ],
   "metadata": {
    "collapsed": false
   }
  },
  {
   "cell_type": "code",
   "execution_count": 4,
   "outputs": [
    {
     "name": "stdout",
     "output_type": "stream",
     "text": [
      "Status code: 401\n"
     ]
    }
   ],
   "source": [
    "api_url_zipcode = \"https://kontaktsuche.bih.de/api/post-codes\"\n",
    "api_url_institutes = \"https://kontaktsuche.bih.de/api/v2/institutes\"\n",
    "api_key = \"YR39qInUOsPpv-IbhpE-cl7--xwblf4PX_TQezxxgQA\"\n",
    "data_initial_institute_type = \"7\"\n",
    "\n",
    "headers_zipcodes = {\"X-Auth-Token\": api_key, \"Content-Type\": \"application/json\"}\n",
    "headers_institutes = {\"X-Auth-Token\": api_key, \"Content-Type\": \"application/json\"}\n",
    "\n",
    "# Search for zip code id using post code\n",
    "query_url = f\"{api_url_zipcode}?zip_code={40210}\"\n",
    "response = requests.get(query_url)\n",
    "if response.status_code == 200:\n",
    "    data = response.json()\n",
    "    zip_code_id = data['data'][0]['zip_code_id']\n",
    "else:\n",
    "    print(f\"Status code: {response.status_code}\")"
   ],
   "metadata": {
    "collapsed": false
   }
  },
  {
   "cell_type": "code",
   "execution_count": null,
   "outputs": [],
   "source": [],
   "metadata": {
    "collapsed": false
   }
  }
 ],
 "metadata": {
  "kernelspec": {
   "display_name": "Python 3",
   "language": "python",
   "name": "python3"
  },
  "language_info": {
   "codemirror_mode": {
    "name": "ipython",
    "version": 2
   },
   "file_extension": ".py",
   "mimetype": "text/x-python",
   "name": "python",
   "nbconvert_exporter": "python",
   "pygments_lexer": "ipython2",
   "version": "2.7.6"
  }
 },
 "nbformat": 4,
 "nbformat_minor": 0
}
